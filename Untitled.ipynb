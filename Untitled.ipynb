{
 "cells": [
  {
   "cell_type": "code",
   "execution_count": 1,
   "id": "baa444ce-c521-430b-9154-d42cc8b6a3b6",
   "metadata": {},
   "outputs": [],
   "source": [
    "import json"
   ]
  },
  {
   "cell_type": "code",
   "execution_count": 3,
   "id": "70b82d38-b64a-41b5-8f0f-19636a2e3b76",
   "metadata": {},
   "outputs": [
    {
     "name": "stdout",
     "output_type": "stream",
     "text": [
      "Original String:\n",
      "{'4': 5, '6': 7, '1': 3, '2': 4}\n",
      "\n",
      "JSON data:\n",
      "{\n",
      "    \"1\": 3,\n",
      "    \"2\": 4,\n",
      "    \"4\": 5,\n",
      "    \"6\": 7\n",
      "}\n"
     ]
    }
   ],
   "source": [
    "j_str = {'4':5,'6':7,'1':3,'2':4}\n",
    "print(\"Original String:\")\n",
    "print(j_str)\n",
    "print(\"\\nJSON data:\")\n",
    "print(json.dumps(j_str, sort_keys=True, indent=4))"
   ]
  },
  {
   "cell_type": "code",
   "execution_count": 5,
   "id": "8c1cebee-39ee-4d8a-a374-e363db75f26b",
   "metadata": {},
   "outputs": [
    {
     "name": "stdout",
     "output_type": "stream",
     "text": [
      "CSV file as a dictionary:\n",
      "\n",
      "{'first_name': 'Abdul', 'last_name': 'Kalam'}\n",
      "{'first_name': 'Sundar', 'last_name': 'Pichai'}\n",
      "{'first_name': 'Ramanujam', 'last_name': 'Sreenivasan'}\n"
     ]
    }
   ],
   "source": [
    "import csv\n",
    "with open('names.csv', 'w', newline='') as csvfile:\n",
    " fieldnames = ['first_name', 'last_name']\n",
    " writer = csv.DictWriter(csvfile, fieldnames=fieldnames)\n",
    " writer.writeheader()\n",
    " writer.writerow({'first_name': 'Abdul', 'last_name':'Kalam'})\n",
    " writer.writerow({'first_name': 'Sundar', 'last_name':'Pichai'})\n",
    " writer.writerow({'first_name': 'Ramanujam', 'last_name':'Sreenivasan'})\n",
    "import csv\n",
    "data = csv.DictReader(open(\"names.csv\"))\n",
    "print(\"CSV file as a dictionary:\\n\")\n",
    "for row in data:\n",
    " print(row)"
   ]
  }
 ],
 "metadata": {
  "kernelspec": {
   "display_name": "Python [conda env:base] *",
   "language": "python",
   "name": "conda-base-py"
  },
  "language_info": {
   "codemirror_mode": {
    "name": "ipython",
    "version": 3
   },
   "file_extension": ".py",
   "mimetype": "text/x-python",
   "name": "python",
   "nbconvert_exporter": "python",
   "pygments_lexer": "ipython3",
   "version": "3.12.7"
  }
 },
 "nbformat": 4,
 "nbformat_minor": 5
}
